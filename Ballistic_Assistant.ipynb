{
  "cells": [
    {
      "cell_type": "markdown",
      "source": [
        "Author: Thomas Esayas <br>\n",
        "Date: Aug 18, 2022 - Oct 6, 2022\n",
        "\n",
        "Note: All visualizations and graphs are uneccesarry for the operation of the robot. It is there solely for your comprehension."
      ],
      "metadata": {
        "id": "g0wBXCD8_PjC"
      }
    },
    {
      "cell_type": "markdown",
      "metadata": {
        "id": "ofPoBWFpzGe7"
      },
      "source": [
        "# Dependencies"
      ]
    },
    {
      "cell_type": "markdown",
      "metadata": {
        "id": "XQidUwKZ2WGa"
      },
      "source": [
        "Our imports are data science libraries that help visualize our data"
      ]
    },
    {
      "cell_type": "code",
      "execution_count": null,
      "metadata": {
        "id": "c-jiM68g2Sts"
      },
      "outputs": [],
      "source": [
        "from matplotlib import pyplot as plt\n",
        "import pandas as pd\n",
        "import seaborn as sns\n",
        "import numpy as np\n",
        "from math import sin, cos, radians as rad\n",
        "import cv2 as cv2\n",
        "from scipy import stats\n",
        "%matplotlib inline"
      ]
    },
    {
      "cell_type": "markdown",
      "metadata": {
        "id": "qQfM5ZkM5GB2"
      },
      "source": [
        "# Defining Variables"
      ]
    },
    {
      "cell_type": "markdown",
      "metadata": {
        "id": "w-5U79iwzf2j"
      },
      "source": [
        "Firstly, in order to aim and launch an object at a certain destination, it would be helpful to know the trajectory. We can define (x1, y1) as our start, and (x3, y3) as our destination"
      ]
    },
    {
      "cell_type": "code",
      "execution_count": null,
      "metadata": {
        "id": "fthy_nxf1yLq"
      },
      "outputs": [],
      "source": [
        "target = (2, 4)\n",
        "\n",
        "x3 = target[0]\n",
        "y3 = target[1]\n"
      ]
    },
    {
      "cell_type": "markdown",
      "metadata": {
        "id": "6vAXHEX4G7Tg"
      },
      "source": [
        "# Graphing our Parabola (Unused Section)"
      ]
    },
    {
      "cell_type": "markdown",
      "metadata": {
        "id": "gYToea7912xv"
      },
      "source": [
        "There are an infinite amount of parabolas that can cross two points, and that's why we have a third point.\n",
        "\n",
        "(x2, y2) is a soft-coded way to ensure that the parabola is what we would expect from a launching machine. \n",
        "\n"
      ]
    },
    {
      "cell_type": "markdown",
      "metadata": {
        "id": "sc9mv_1H3DxS"
      },
      "source": [
        "We can use these three points to extract the coefficients ($A$, $B$, $C$) needed for a polynomial. \n",
        "$y = Ax^2 + Bx + C$"
      ]
    },
    {
      "cell_type": "markdown",
      "metadata": {
        "id": "91Zyb7COVAy9"
      },
      "source": [
        "# Derivation"
      ]
    },
    {
      "cell_type": "markdown",
      "metadata": {
        "id": "9VkT0uceakcO"
      },
      "source": [
        "## Finding acceleration"
      ]
    },
    {
      "cell_type": "markdown",
      "metadata": {
        "id": "s9r6GjFkMfS4"
      },
      "source": [
        "In normal projectile motion (without air resistance), the only force present would be gravity.\n",
        "\n",
        "> $F_{net} = -mg = ma$ <br>\n",
        "  $F_{net_x} = 0$ <br>\n",
        "  $F_{net_y} = mg$\n",
        "\n",
        "However, in the real world, there exists a force called Drag Force or simply Drag. Drag can be described as:\n",
        "\n",
        "> $F_{D} = \\frac{1}{2}\\rho v^2 C_DA$\n",
        "\n",
        "But we'll simplify it to make it easy on the eyes:\n",
        "\n",
        ">$F_{D} = Dv^2$ <br>\n",
        " $D = \\frac{1}{2}\\rho C_DA$\n",
        "\n",
        "Assuming air is still, we can say velocity relative to the ground is equal to velocity relative to the air. Like ground friction, drag acts in the opposite direction of motion. Let's rewrite it and find it's components.\n",
        "\n",
        ">$F_{D} = Dv\\vec{v}$ \n",
        "><ul>\n",
        " <li> $F_{D_x} = -Dvv_{x}$\n",
        " <li> $F_{D_y} = Dvv_{y}$\n",
        "</ul>\n",
        "\n",
        "Now since we're including drag force, we have to change our $F_{net}$.\n",
        "\n",
        ">$F_{net} = -mg - Dv\\vec{v} = ma$\n",
        "\n",
        "And we'll go ahead and do that for the components of $F_{net}$\n",
        "\n",
        ">$F_{net_x} = -Dvv_{x} = ma_{x}$<br>\n",
        " $F_{net_y} = -mg - Dvv_{y} = ma_{y}$\n",
        "\n",
        "Now we can solve for acceleration in each component.\n",
        "\n",
        ">$a_{x} = \\frac{-Dvv_{x}}{m}$<br>\n",
        ">\n",
        ">\n",
        "> $a_{y} = -g-\\frac{- Dvv_{y}}{m}$\n"
      ]
    },
    {
      "cell_type": "markdown",
      "metadata": {
        "id": "cPsoV48Casjs"
      },
      "source": [
        "## Using kinematics to find position"
      ]
    },
    {
      "cell_type": "markdown",
      "metadata": {
        "id": "YEO9jKV0a2Z2"
      },
      "source": [
        "### Finding Velocity\n",
        "Acceleration is changing as velocity changes; however, if we assume that acceleration is constant over a small time interval, $\\Delta t$, we can say acceleration is constant.\n",
        "\n",
        "If we know the coordinates and velocity and time $t$, we can find the coordinates and velocity at $t + \\Delta t$.\n",
        "\n",
        "> $v = v_{o} + a t$\n",
        "\n",
        "$v_{o}$ would be velocity at the start of the interval, and $v$ would be the velocity at the end of the interval.\n",
        "\n",
        "Applying this kineamtic equation with these variables would look something like this:\n",
        "\n",
        "> $v_{x} + \\Delta v_{x} = v_{x} + a_{x} \\Delta t$\n",
        "\n",
        "And it would be very similar for the y component as well."
      ]
    },
    {
      "cell_type": "markdown",
      "metadata": {
        "id": "qngpyaIJodWv"
      },
      "source": [
        "### Finding position"
      ]
    },
    {
      "cell_type": "markdown",
      "metadata": {
        "id": "vZo_389epIv-"
      },
      "source": [
        "Finding position will require a defined velocity, so we'll use average velocity within the time interval.\n",
        "\n",
        ">$v_{avg} = \\frac{(v+Δv) + (v)}{2} = \\frac{2v + Δv}{2} = v+\\frac{Δv}{2}$\n",
        "\n",
        "And now we can find the total change in position using both average velocity and kinematics:\n",
        "\n",
        ">$\\Delta x = (v_{x} + \\frac{\\Delta v_{x}}{2})Δt = v_{x}Δt + \\frac{1}{2}a_{x}(Δt)^2$\n",
        "\n",
        "This also will look similarly for the y component.\n",
        "\n",
        "Knowing this we can finally determine the coordinates of the projectile at the end of the interval.\n",
        "\n",
        ">$ x + Δx = x + v_{x}Δt + \\frac{1}{2}a_{x}(Δt)^2$ <br>\n",
        ">$ y + Δy = y + v_{y}Δt + \\frac{1}{2}a_{y}(Δt)^2$\n",
        "\n",
        "Which means in order to proceed, we'd need to know: \n",
        ">$x$<br> $y$<br> $v_{x}$<br> $v_{y}$"
      ]
    },
    {
      "cell_type": "markdown",
      "metadata": {
        "id": "XyKxkameuf-2"
      },
      "source": [
        "# Code"
      ]
    },
    {
      "cell_type": "markdown",
      "metadata": {
        "id": "WVFiZB-0INsJ"
      },
      "source": [
        "## Data Gathering"
      ]
    },
    {
      "cell_type": "markdown",
      "metadata": {
        "id": "OWMI0oLY0JQy"
      },
      "source": [
        "This block defines gravity and D, which we defined earlier. It also translates the mathemeatical functions for the components of acceleration into programming functions for later use."
      ]
    },
    {
      "cell_type": "code",
      "execution_count": null,
      "metadata": {
        "id": "qLqciTVvkG2C"
      },
      "outputs": [],
      "source": [
        "g = 9.81\n",
        "\n",
        "p = 1.3 # Density of Air\n",
        "C = 0.55 # Drag Coefficient\n",
        "A = 0.0034 # Silhouette Area\n",
        "m = 0.6\n",
        "\n",
        "D = (p*C*A)/(2)\n",
        "\n",
        "def findAccX(Vx, Vy):\n",
        "  V = np.hypot(Vx, Vy) # V is the hypotnuse of Vx and Vy\n",
        "  return (-D/m)*(V * Vx)\n",
        "\n",
        "def findAccY(Vx, Vy):\n",
        "  V = np.hypot(Vx, Vy) # V is the hypotnuse of Vx and Vy\n",
        "  return (-D/m)*(V * Vy) - g"
      ]
    },
    {
      "cell_type": "markdown",
      "metadata": {
        "id": "eL5cCGfk2Qjf"
      },
      "source": [
        "We're defining a function that finds the motion of a projectile with drag for each interval. We use the equations from our derivation and iterate for a maximum of three seconds. Then we return the data of the motion of the projectile."
      ]
    },
    {
      "cell_type": "code",
      "execution_count": null,
      "metadata": {
        "id": "8Xj1LLePWPWa"
      },
      "outputs": [],
      "source": [
        "def motion(x, y, Vx, Vy):\n",
        "  g = 9.81\n",
        "  initialX = x\n",
        "  initialY = y\n",
        "  initialVx = Vx\n",
        "  initialVy = Vy\n",
        "  Ax = 0.0\n",
        "  Ay = 0.0\n",
        "\n",
        "  t = 0.00 # t\n",
        "  timeInterval = 0.1 # Delta t\n",
        "\n",
        "  data = [[x, y, Vx, Vy, Ax, Ay, t]]\n",
        "\n",
        "  while t <= 3.0: # Euler's Method\n",
        "    Ax = findAccX(Vx, Vy)\n",
        "    Ay = findAccY(Vx, Vy)\n",
        "\n",
        "    Vx = Vx + Ax*timeInterval\n",
        "    Vy = Vy + Ay*timeInterval\n",
        "\n",
        "    x = x + Vx*timeInterval + 1/2*(Ax)*(timeInterval**2)\n",
        "    y = y + Vy*timeInterval + 1/2*(Ay)*(timeInterval**2)\n",
        "\n",
        "    data.append([x, y, Vx, Vy, Ax, Ay, t])\n",
        "\n",
        "    t += timeInterval\n",
        "\n",
        "\n",
        "\n",
        "  return data"
      ]
    },
    {
      "cell_type": "markdown",
      "metadata": {
        "id": "E37edPh17qGt"
      },
      "source": [
        "This saves data from all possible target-hitting parabolas."
      ]
    },
    {
      "cell_type": "code",
      "execution_count": null,
      "metadata": {
        "id": "tq9mYiRu5MCc"
      },
      "outputs": [],
      "source": [
        "allPossibilities = []\n",
        "\n",
        "def saveData(data):\n",
        "  allPossibilities.append(data)"
      ]
    },
    {
      "cell_type": "markdown",
      "metadata": {
        "id": "MuI6Uqmx8BYh"
      },
      "source": [
        "This function finds the \"optimal\" parabola, which is really just the trajectory with the lowest final velocity. It uses the data saved from allPossibilities."
      ]
    },
    {
      "cell_type": "code",
      "execution_count": null,
      "metadata": {
        "id": "VdCSoetA6iT5"
      },
      "outputs": [],
      "source": [
        "def findOptimal(data, target):\n",
        "  optimal = data\n",
        "  for i in range(len(data)): # For every possibility\n",
        "    v = float(\"inf\")\n",
        "    newV = abs(np.hypot(data[i][-1][2], data[i][-1][3]))\n",
        "    if newV < v: # Save the data lowest velocity\n",
        "      optimal = data[i]\n",
        "  return optimal"
      ]
    },
    {
      "cell_type": "markdown",
      "metadata": {
        "id": "ICsOb2AV8etq"
      },
      "source": [
        "This function iterates through all the data points of a given trajectory data, and finds if any of those points seem to hit the target."
      ]
    },
    {
      "cell_type": "code",
      "execution_count": null,
      "metadata": {
        "id": "ArByu1NfsDN2"
      },
      "outputs": [],
      "source": [
        "def isHitTarget(data, target): \n",
        "  for i in range(len(data)):\n",
        "    x = data[i][0]\n",
        "    y = data[i][1]\n",
        "\n",
        "    targetX = target[0]\n",
        "    targetY = target[1]\n",
        "    \n",
        "    delta = 0.1\n",
        "\n",
        "    if targetX - delta <= x <= targetX + delta and targetY - delta <= y <= targetY + delta:\n",
        "      saveData(data)\n",
        "      return True\n",
        "  return False\n"
      ]
    },
    {
      "cell_type": "markdown",
      "metadata": {
        "id": "M9NhylMGRMo-"
      },
      "source": [
        "This for loop essentially finds the trajectory for thousands of different velocities/angles. It's redundant to run it over and over again, so the data will be saved on some form of storage."
      ]
    },
    {
      "cell_type": "code",
      "execution_count": null,
      "metadata": {
        "id": "JLfdIdhSU_8L",
        "colab": {
          "base_uri": "https://localhost:8080/"
        },
        "outputId": "ccb30a9a-0004-4299-ea8d-9e09780dfc75"
      },
      "outputs": [
        {
          "output_type": "stream",
          "name": "stdout",
          "text": [
            "Possible trajectories:  4\n"
          ]
        }
      ],
      "source": [
        "from math import sin, cos, tan, atan, pi, radians as rad, degrees as deg\n",
        "\n",
        "l = 0.64 \n",
        "counter = 0\n",
        "\n",
        "for theta in np.arange(0,91, 1): ## For every angle...\n",
        "  for velocity in np.arange(0, 10, 0.1): ## For every possible velocity from 0.0 m/s - 10.0 m/s\n",
        "    data = motion(l*cos(rad(theta)), l*sin(rad(theta)), velocity*sin(rad(theta)), velocity*cos(rad(theta)))\n",
        "    if isHitTarget(data, target):\n",
        "      counter += 1\n",
        "\n",
        "print(\"Possible trajectories: \" , counter)\n",
        "\n",
        "optimal = findOptimal(allPossibilities, target)\n"
      ]
    },
    {
      "cell_type": "markdown",
      "metadata": {
        "id": "wEvHWTjvIeiw"
      },
      "source": [
        "## Data Analysis/Display"
      ]
    },
    {
      "cell_type": "markdown",
      "metadata": {
        "id": "lpj_FibYJ4Cn"
      },
      "source": [
        "This makes all the data into a pandas Dataframe, which is essentially Excel for Python. This is extremely useful for Data Analysis."
      ]
    },
    {
      "cell_type": "code",
      "execution_count": null,
      "metadata": {
        "id": "hzwtwEXsrBMX"
      },
      "outputs": [],
      "source": [
        "df = pd.DataFrame(optimal)\n",
        "df = df.rename(columns={0: 'X', 1: 'Y', 2 : 'Vx', 3 : 'Vy',4: 'Ax', 5: 'Ay', 6 : 't'})"
      ]
    },
    {
      "cell_type": "markdown",
      "source": [
        "Collectiong data at collision point"
      ],
      "metadata": {
        "id": "AQAz3AYg9_cu"
      }
    },
    {
      "cell_type": "code",
      "source": [
        "collision = df.loc[df['X'] >= target[0] - 0.10].iloc[0]"
      ],
      "metadata": {
        "id": "2_2xekwheS7X"
      },
      "execution_count": null,
      "outputs": []
    },
    {
      "cell_type": "markdown",
      "source": [
        "This is turning the raw data into a dataframe (which can be though of as spreadsheet). It is extremely useful for doing analysis with data."
      ],
      "metadata": {
        "id": "n1Bg_7Pa-PmC"
      }
    },
    {
      "cell_type": "code",
      "execution_count": null,
      "metadata": {
        "id": "u7DufkJk-rYV"
      },
      "outputs": [],
      "source": [
        "df = pd.DataFrame(optimal)\n",
        "df = df.rename(columns={0: 'X', 1: 'Y', 2 : 'Vx', 3 : 'Vy',4: 'Ax', 5: 'Ay', 6 : 't'})"
      ]
    },
    {
      "cell_type": "markdown",
      "source": [
        "The following plots the position and its derivatives using the newly made dataframe."
      ],
      "metadata": {
        "id": "fePxtdJu_Oi8"
      }
    },
    {
      "cell_type": "code",
      "execution_count": null,
      "metadata": {
        "id": "7Rj-JV3mwOmK",
        "colab": {
          "base_uri": "https://localhost:8080/",
          "height": 479
        },
        "outputId": "00cea380-38a2-4dad-a30e-4b6f437f55f0"
      },
      "outputs": [
        {
          "output_type": "display_data",
          "data": {
            "text/plain": [
              "<Figure size 720x504 with 6 Axes>"
            ],
            "image/png": "[encoded data removed]"
          },
          "metadata": {
            "needs_background": "light"
          }
        }
      ],
      "source": [
        "fig, axs = plt.subplots(3, 2)\n",
        "fig.set_figheight(7)\n",
        "fig.set_figwidth(10)\n",
        "\n",
        "i = 0 \n",
        "\n",
        "for n in range(3):\n",
        "  for m in range (2):\n",
        "    p = np.poly1d(np.polyfit(df['t'], df[df.columns[i]], 2)) # Making the polynomial\n",
        "    x = np.linspace(0, collision['t']*1.1, 100) # X is from 0 - target, made up of 100 lines\n",
        "    y = p(x) # Y is the model (p) of X\n",
        "    with sns.axes_style(\"darkgrid\"): # Makes everything look nice\n",
        "      axs[n, m].plot(x, y) # Plots data\n",
        "      axs[n, m].set_title(df.columns[i] + \" v. Time\")\n",
        "    i += 1\n",
        "\n",
        "plt.subplots_adjust(wspace = 0.20, hspace = 0.60)\n",
        "\n",
        "fig.suptitle('Motion of Projectile')\n",
        "\n",
        "plt.show()"
      ]
    },
    {
      "cell_type": "markdown",
      "source": [
        "Finds needed launch velocity and angle"
      ],
      "metadata": {
        "id": "ne4bVCID_0fl"
      }
    },
    {
      "cell_type": "code",
      "execution_count": null,
      "metadata": {
        "id": "YbI10wfcP1Hb",
        "colab": {
          "base_uri": "https://localhost:8080/"
        },
        "outputId": "a100643d-dcc3-4963-a822-28926efdd529"
      },
      "outputs": [
        {
          "output_type": "stream",
          "name": "stdout",
          "text": [
            "9.9 80.0\n"
          ]
        }
      ],
      "source": [
        "launchVelocity = np.hypot(df['Vx'][0], df['Vy'][0])\n",
        "launchAngle = deg((np.arctan([df['Vy'][0]/df['Vx'][0]]))[0])\n",
        "\n",
        "print(launchVelocity, launchAngle)\n"
      ]
    },
    {
      "cell_type": "markdown",
      "metadata": {
        "id": "vo93uxiNlImt"
      },
      "source": [
        "# Rotational Kinematics\n"
      ]
    },
    {
      "cell_type": "markdown",
      "metadata": {
        "id": "NJ6ybTVJEHxZ"
      },
      "source": [
        "Now, having our initial launch velocity and our angle, we can make it into something understandable by our motor.\n",
        "\n",
        "> $θ_{c} =$ Angle of Launch with respect to the horizontal <br>\n",
        "> $θ_{l} =$ Angle of Catapult with respect to the horizontal\n",
        "\n",
        "Since we defined $θ_{c}$ at the end of the code section, we can find $θ_{l}$ through $θ_{l} = 90 - θ_{c}$ because trig makes life easy.\n",
        "\n",
        "Since we'll be working in terms of angular kinematics, it'll be useful to define our variables in terms of their angular counterparts.\n",
        "\n",
        "> $ω = \\frac{v}{r}$ <br>\n",
        "\n",
        "We can also assume our initial angular velocity and angle is zero.\n",
        "Knowing this we can use our third kinematic equation to find angular acceleration\n",
        "\n",
        "> $ω^2 = ω_{0}^2 + 2α$ $(Δθ)$ <br>\n",
        "> $α = \\frac{ω^2 - ω_{0}^2}{2(Δθ)}$\n",
        "\n",
        "In addition to angular acceleration, we need to find moment of inertia to get the required torque.\n",
        "\n",
        "Since our arm is a complex object, we will determine moment of inertia of the arm as a rod, and the projectile as a point mass:\n",
        "\n",
        "> $I = \\frac{1}{3}M_{1}L^2 + M_{2}r^2$\n",
        "\n",
        "And now we can find torque, power, etc.\n",
        "\n",
        "> $τ = Iα$ <br>\n",
        "> $P = τω$ <br>\n",
        "> $t = \\frac{2(Δθ)}{ω + ω_{0}}$"
      ]
    },
    {
      "cell_type": "markdown",
      "metadata": {
        "id": "SuzH3c1VU5mZ"
      },
      "source": [
        "The following is the programmatic representation of the above."
      ]
    },
    {
      "cell_type": "code",
      "execution_count": null,
      "metadata": {
        "id": "OsrrprrPU3Mq"
      },
      "outputs": [],
      "source": [
        "#Point Mass at the end\n",
        "rodMass = .264\n",
        "holderMass = 0.013\n",
        "ballMass = .056\n",
        "\n",
        "\n",
        "pivotX = 0.10 # The distance from the end which the arm pivots about\n",
        "centerX = 0.30 # The center of mass of the arm\n",
        "\n",
        "def angMotion(t):\n",
        "  ## Setting our variables\n",
        "  seconds = t\n",
        "  ang = rad(launchAngle)\n",
        "  angVel = launchVelocity/l # Desired final angular velocity\n",
        "  angAcc = angVel/seconds # The Angular Acceleration required to have the desired angular velocity within a predetermined amount of time\n",
        "\n",
        "  ## Calculating necessary variables\n",
        "  momentInertia = 1/3*(rodMass)*(l**2) + (holderMass + ballMass)*(l-0.08)**2 # Moment of Inertia of the arm\n",
        "\n",
        "  torqueRod = momentInertia*angAcc # Torque required to rotate the rod\n",
        "  gTorque = -rodMass*g*centerX # Gravitational torque\n",
        "\n",
        "  \n",
        "  netTorque = torqueRod - gTorque\n",
        "\n",
        "  power = netTorque*angVel\n",
        "\n",
        "  return [netTorque, angAcc]\n",
        "  #print(f\"rpm: {rpm} \\nrotational time: {seconds} s \\ntorque: {netTorque} Nm\\npower: {power}\\nangular acceleration: {angAcc}\")\n"
      ]
    },
    {
      "cell_type": "markdown",
      "source": [
        "This is the torque-speed curve graph of our specific motor. It helps translate our required torque to RPM. Data is provided by the motor manufacturer and adapted into a programmatic context."
      ],
      "metadata": {
        "id": "oHhIrDqGjM2l"
      }
    },
    {
      "cell_type": "code",
      "source": [
        "rpmTorqueData = [[60,250],[90,245],[120,240],[150,230],[180,225],[225,220],[270,210],[300, 205],[360,195],[420,182]]\n",
        "rpmTorque = pd.DataFrame(rpmTorqueData, columns=['RPM','Torque (Ncm)'])\n",
        "\n",
        "slope, intercept, r, p, std_err = stats.linregress(rpmTorque['Torque (Ncm)'], rpmTorque['RPM'])\n",
        "\n",
        "def findRPM(torque):\n",
        "  return slope*(torque + intercept\n",
        "\n",
        "plt.scatter(rpmTorque['RPM'], rpmTorque['Torque (Ncm)'])\n",
        "plt.plot(rpmTorque['RPM'], rpmTorque['Torque (Ncm)'])\n",
        "plt.xlabel(\"RPM\")\n",
        "plt.ylabel(\"Torque (Ncm)\")\n",
        "plt.ylim(0,300)\n"
      ],
      "metadata": {
        "id": "pMVnLMk227Dj",
        "colab": {
          "base_uri": "https://localhost:8080/",
          "height": 300
        },
        "outputId": "dfd9aff4-2bf7-4dcf-8fbd-75adad939d3b"
      },
      "execution_count": null,
      "outputs": [
        {
          "output_type": "execute_result",
          "data": {
            "text/plain": [
              "(0.0, 300.0)"
            ]
          },
          "metadata": {},
          "execution_count": 18
        },
        {
          "output_type": "display_data",
          "data": {
            "text/plain": [
              "<Figure size 432x288 with 1 Axes>"
            ],
            "image/png": "[encoded data removed]"
          },
          "metadata": {
            "needs_background": "light"
          }
        }
      ]
    },
    {
      "cell_type": "code",
      "execution_count": null,
      "metadata": {
        "id": "4xptdBLF3zQV",
        "colab": {
          "base_uri": "https://localhost:8080/",
          "height": 280
        },
        "outputId": "9fdbf01c-a03e-4b37-b7a7-d43955467ad4"
      },
      "outputs": [
        {
          "output_type": "display_data",
          "data": {
            "text/plain": [
              "<Figure size 432x288 with 1 Axes>"
            ],
            "image/png": "[encoded data removed]"
          },
          "metadata": {
            "needs_background": "light"
          }
        }
      ],
      "source": [
        "#The range of available torque + time combinations that result in the same final velocity\n",
        "for t in np.arange(0.1, 2, 0.1):\n",
        "  plt.scatter(t, angMotion(t)[0])\n",
        "  plt.xlabel(\"Time (s)\")\n",
        "  plt.ylabel(\"Torque (Nm)\")\n",
        "\n",
        "reqTorqueData = (0.25, findRPM(angMotion(0.25)[0]))"
      ]
    },
    {
      "cell_type": "markdown",
      "metadata": {
        "id": "3W2mXx391X5S"
      },
      "source": [
        "# Animation (Non-functioning)"
      ]
    },
    {
      "cell_type": "markdown",
      "metadata": {
        "id": "NF1EzdKb1fSS"
      },
      "source": [
        "To ensure that the catapult will work as expected, an animation of how it works based on our previous data may be helpful"
      ]
    },
    {
      "cell_type": "code",
      "execution_count": null,
      "metadata": {
        "id": "KVOATlBxAg47",
        "colab": {
          "base_uri": "https://localhost:8080/"
        },
        "outputId": "f7cc2bb3-4b5c-437a-e802-a807de06bd61"
      },
      "outputs": [
        {
          "output_type": "stream",
          "name": "stdout",
          "text": [
            "Collecting pygame\n",
            "  Downloading pygame-2.1.2-cp37-cp37m-manylinux_2_17_x86_64.manylinux2014_x86_64.whl (21.8 MB)\n",
            "\u001b[?25l\r\u001b[K     |                                | 10 kB 30.7 MB/s eta 0:00:01\r\u001b[K     |                                | 20 kB 37.8 MB/s eta 0:00:01\r\u001b[K     |                                | 30 kB 25.7 MB/s eta 0:00:01\r\u001b[K     |                                | 40 kB 21.6 MB/s eta 0:00:02\r\u001b[K     |                                | 51 kB 22.1 MB/s eta 0:00:01\r\u001b[K     |                                | 61 kB 25.2 MB/s eta 0:00:01\r\u001b[K     |                                | 71 kB 23.1 MB/s eta 0:00:01\r\u001b[K     |▏                               | 81 kB 24.9 MB/s eta 0:00:01\r\u001b[K     |▏                               | 92 kB 26.6 MB/s eta 0:00:01\r\u001b[K     |▏                               | 102 kB 28.3 MB/s eta 0:00:01\r\u001b[K     |▏                               | 112 kB 28.3 MB/s eta 0:00:01\r\u001b[K     |▏                               | 122 kB 28.3 MB/s eta 0:00:01\r\u001b[K     |▏                               | 133 kB 28.3 MB/s eta 0:00:01\r\u001b[K     |▏                               | 143 kB 28.3 MB/s eta 0:00:01\r\u001b[K     |▎                               | 153 kB 28.3 MB/s eta 0:00:01\r\u001b[K     |▎                               | 163 kB 28.3 MB/s eta 0:00:01\r\u001b[K     |▎                               | 174 kB 28.3 MB/s eta 0:00:01\r\u001b[K     |▎                               | 184 kB 28.3 MB/s eta 0:00:01\r\u001b[K     |▎                               | 194 kB 28.3 MB/s eta 0:00:01\r\u001b[K     |▎                               | 204 kB 28.3 MB/s eta 0:00:01\r\u001b[K     |▎                               | 215 kB 28.3 MB/s eta 0:00:01\n",
            "\u001b[31mERROR: Operation cancelled by user\u001b[0m\n",
            "\u001b[?25h"
          ]
        }
      ],
      "source": [
        "!pip install pygame"
      ]
    },
    {
      "cell_type": "code",
      "execution_count": null,
      "metadata": {
        "id": "IMBgxwAlAQMJ"
      },
      "outputs": [],
      "source": [
        "import os\n",
        "os.environ[\"SDL_VIDEODRIVER\"] = \"dummy\"\n",
        "import pygame\n",
        "from pygame import draw, Color\n",
        "from google.colab.patches import cv2_imshow\n",
        "from google.colab import output\n",
        "from time import sleep\n",
        "from matplotlib import animation\n",
        "from matplotlib import rc\n",
        "rc('animation', html='jshtml')"
      ]
    },
    {
      "cell_type": "code",
      "execution_count": null,
      "metadata": {
        "id": "WlD566iS17DZ"
      },
      "outputs": [],
      "source": [
        "from matplotlib import pyplot as plt\n",
        "import numpy as np\n",
        "from matplotlib.animation import FuncAnimation \n",
        "   \n",
        "# initializing a figure in \n",
        "# which the graph will be plotted\n",
        "fig = plt.figure() \n",
        "   \n",
        "# marking the x-axis and y-axis\n",
        "axis = plt.axes(xlim =(-1, 5), \n",
        "                ylim =(0, 5)) \n",
        "  \n",
        "# initializing a line variable\n",
        "line, = axis.plot([], [], lw = 3) \n",
        "   \n",
        "# data which the line will \n",
        "# contain (x, y)\n",
        "def init(): \n",
        "    line.set_data([], [])\n",
        "    return line,\n",
        "   \n",
        "def animate(i):\n",
        "    x = np.linspace(0, 5, 100)\n",
        "   \n",
        "    # plots a sine graph\n",
        "    y = np.sin(2 * np.pi * (x - 0.01 * i))\n",
        "    line.set_data(x, y)\n",
        "      \n",
        "    return line,\n",
        "   \n",
        "anim = FuncAnimation(fig, animate, init_func = init,\n",
        "                     frames = 200, interval = 20, blit = True)\n",
        "  "
      ]
    },
    {
      "cell_type": "code",
      "source": [],
      "metadata": {
        "id": "TlS2thoWbwO4"
      },
      "execution_count": null,
      "outputs": []
    },
    {
      "cell_type": "markdown",
      "metadata": {
        "id": "HzkptU_sGvmF"
      },
      "source": [
        "# Object Detection\n"
      ]
    },
    {
      "cell_type": "code",
      "execution_count": null,
      "metadata": {
        "id": "oTWvXLFI3vKZ",
        "colab": {
          "base_uri": "https://localhost:8080/",
          "height": 373
        },
        "outputId": "16984766-dcc8-4f3c-c95b-2f35ecda0444"
      },
      "outputs": [
        {
          "output_type": "error",
          "ename": "ModuleNotFoundError",
          "evalue": "ignored",
          "traceback": [
            "\u001b[0;31m---------------------------------------------------------------------------\u001b[0m",
            "\u001b[0;31mModuleNotFoundError\u001b[0m                       Traceback (most recent call last)",
            "\u001b[0;32m<ipython-input-21-9be852f10e02>\u001b[0m in \u001b[0;36m<module>\u001b[0;34m\u001b[0m\n\u001b[1;32m      1\u001b[0m \u001b[0;32mimport\u001b[0m \u001b[0mcv2\u001b[0m\u001b[0;34m\u001b[0m\u001b[0;34m\u001b[0m\u001b[0m\n\u001b[0;32m----> 2\u001b[0;31m \u001b[0;32mfrom\u001b[0m \u001b[0mcvzone\u001b[0m\u001b[0;34m.\u001b[0m\u001b[0mPoseModule\u001b[0m \u001b[0;32mimport\u001b[0m \u001b[0mPoseDetector\u001b[0m\u001b[0;34m\u001b[0m\u001b[0;34m\u001b[0m\u001b[0m\n\u001b[0m\u001b[1;32m      3\u001b[0m \u001b[0;32mfrom\u001b[0m \u001b[0mcvzone\u001b[0m\u001b[0;34m.\u001b[0m\u001b[0mHandTrackingModule\u001b[0m \u001b[0;32mimport\u001b[0m \u001b[0mHandDetector\u001b[0m\u001b[0;34m\u001b[0m\u001b[0;34m\u001b[0m\u001b[0m\n\u001b[1;32m      4\u001b[0m \u001b[0;32mfrom\u001b[0m \u001b[0mtime\u001b[0m \u001b[0;32mimport\u001b[0m \u001b[0msleep\u001b[0m\u001b[0;34m\u001b[0m\u001b[0;34m\u001b[0m\u001b[0m\n\u001b[1;32m      5\u001b[0m \u001b[0;32mfrom\u001b[0m \u001b[0mscipy\u001b[0m \u001b[0;32mimport\u001b[0m \u001b[0mstats\u001b[0m\u001b[0;34m\u001b[0m\u001b[0;34m\u001b[0m\u001b[0m\n",
            "\u001b[0;31mModuleNotFoundError\u001b[0m: No module named 'cvzone'",
            "",
            "\u001b[0;31m---------------------------------------------------------------------------\u001b[0;32m\nNOTE: If your import is failing due to a missing package, you can\nmanually install dependencies using either !pip or !apt.\n\nTo view examples of installing some common dependencies, click the\n\"Open Examples\" button below.\n\u001b[0;31m---------------------------------------------------------------------------\u001b[0m\n"
          ],
          "errorDetails": {
            "actions": [
              {
                "action": "open_url",
                "actionText": "Open Examples",
                "url": "/notebooks/snippets/importing_libraries.ipynb"
              }
            ]
          }
        }
      ],
      "source": [
        "import cv2\n",
        "from cvzone.PoseModule import PoseDetector\n",
        "from cvzone.HandTrackingModule import HandDetector\n",
        "from time import sleep\n",
        "\n",
        "detector = PoseDetector()\n",
        "detectorH = HandDetector(detectionCon=0.8, maxHands=2)\n",
        "\n",
        "cap = cv2.VideoCapture(0)\n",
        "\n",
        "def track():\n",
        "    i = 0\n",
        "\n",
        "    shoulderSpanList = []\n",
        "    HandS_DisplacementList = []\n",
        "\n",
        "    while i < 30:\n",
        "        success, img = cap.read()\n",
        "        img = detector.findPose(img)\n",
        "        hands, img = detectorH.findHands(img)  \n",
        "        lmlist, bbox = detector.findPosition(img)\n",
        "        #Shoulders = 12, 11\n",
        "\n",
        "        for d, x in enumerate(lmlist):\n",
        "            cv2.putText(img = img, text = str(d), fontFace = cv2.FONT_HERSHEY_COMPLEX,fontScale =  1, org = (x[1],x[2]), color = (200,200,200))\n",
        "        try:\n",
        "            shoulderSpanList.append(lmlist[11][1] - lmlist[12][1])\n",
        "        except:\n",
        "            print(\"None\")\n",
        "\n",
        "        try:\n",
        "            HandS_DisplacementList.append(lmlist[12][2] - lmlist[20][2])\n",
        "        except:\n",
        "            print(\"None\")\n",
        "\n",
        "        if hands:\n",
        "            # Hand 1\n",
        "            hand1 = hands[0]\n",
        "            lmList1 = hand1[\"lmList\"]  # List of 21 Landmarks points\n",
        "            bbox1 = hand1[\"bbox\"]  # Bounding Box info x,y,w,h\n",
        "            centerPoint1 = hand1[\"center\"]  # center of the hand cx,cy\n",
        "            handType1 = hand1[\"type\"]  # Hand Type Left or Right\n",
        "\n",
        "\n",
        "\n",
        "            fingers1 = detectorH.fingersUp(hand1)\n",
        "\n",
        "            if len(hands) == 2:\n",
        "                hand2 = hands[1]\n",
        "                lmList2 = hand2[\"lmList\"]  # List of 21 Landmarks points\n",
        "                bbox2 = hand2[\"bbox\"]  # Bounding Box info x,y,w,h\n",
        "                centerPoint2 = hand2[\"center\"]  # center of the hand cx,cy\n",
        "                handType2 = hand2[\"type\"]  # Hand Type Left or Right\n",
        "\n",
        "                fingers2 = detectorH.fingersUp(hand2)\n",
        "                # print(fingers1, fingers2)\n",
        "                # length, info, img = detectorH.findDistance(lmList1[8], lmList2[8], img) # with draw\n",
        "                length, info, img = detectorH.findDistance(centerPoint1, centerPoint2, img)  # with draw\n",
        "\n",
        "\n",
        "        cv2.imshow(\"Result\", img)\n",
        "        cv2.waitKey(1)\n",
        "\n",
        "        i += 1\n",
        "\n",
        "    shoulderSpan = sum(shoulderSpanList) / len(shoulderSpanList)\n",
        "    HS = sum(HandS_DisplacementList) / len(HandS_DisplacementList)\n",
        "\n",
        "    avgShoulderSpan = .40  # In Meters\n",
        "\n",
        "    ratio = avgShoulderSpan / shoulderSpan  # Pixel to Meter Ratio\n",
        "\n",
        "    avgHeight = 1.77\n",
        "    shoulderHeight = avgHeight * 0.84375\n",
        "\n",
        "    return ratio\n",
        "        #X = ratio / 0.0026175\n",
        "        #Y = shoulderHeight + HS * ratio\n",
        "\n",
        "\n",
        "#print(X, Y)\n",
        "def calibration(): # Approximately 15 second test that helps determine the distance from the camera\n",
        "    pixRatio = []\n",
        "    meters = []\n",
        "    for i in range(1,4):\n",
        "        print(f\"Move {i} meters away\")\n",
        "        sleep(3)\n",
        "        print(\"Tracking\")\n",
        "        pixRatio.append(track())\n",
        "        meters.append(i)\n",
        "\n",
        "    slope, intercept, r, p, std_err = stats.linregress(pixRatio, meters)\n",
        "    return [slope, intercept]\n",
        "\n",
        "reg = calibration()\n",
        "print(\"move somewhere\")\n",
        "sleep(5)\n",
        "print(reg[0]*track() + reg[1])\n",
        "print(\"done\")\n"
      ]
    },
    {
      "cell_type": "markdown",
      "source": [
        "# Motor Control"
      ],
      "metadata": {
        "id": "DcOBUi_Nwcl1"
      }
    },
    {
      "cell_type": "markdown",
      "source": [
        "This section will not work here, but this is the code that runs within the Raspberry Pi that makes things work."
      ],
      "metadata": {
        "id": "NZRVOP8ywfIC"
      }
    },
    {
      "cell_type": "code",
      "source": [
        "from time import sleep\n",
        "import RPi.GPIO as GPIO\n",
        "\n",
        "DIR = 20   # Direction GPIO Pin\n",
        "STEP = 21  # Step GPIO Pin\n",
        "CW = 1     # Clockwise Rotation\n",
        "CCW = 0    # Counterclockwise Rotation\n",
        "SPR = 200   # Steps per Revolution (360 / 1.8)\n",
        "\n",
        "GPIO.setmode(GPIO.BCM)\n",
        "GPIO.setup(DIR, GPIO.OUT)\n",
        "GPIO.setup(STEP, GPIO.OUT)\n",
        "GPIO.output(DIR, CW)\n",
        "\n",
        "step_count = SPR\n",
        "\n",
        "def launch(duration, RPM):\n",
        "    delay = RPM/SPR/2/60\n",
        "\n",
        "    while i <= duration:\n",
        "      GPIO.output(STEP, GPIO.HIGH)\n",
        "      sleep(delay)\n",
        "      GPIO.output(STEP, GPIO.LOW)\n",
        "      sleep(delay)\n",
        "\n",
        "      i += delay*2"
      ],
      "metadata": {
        "id": "tu9jzWwnroUG"
      },
      "execution_count": null,
      "outputs": []
    },
    {
      "cell_type": "code",
      "source": [
        "def peek():  # Takes a 'peek' at the user's position\n",
        "    detector = PoseDetector()\n",
        "    cap = cv2.VideoCapture(0)\n",
        "    success, img = cap.read()\n",
        "    img = detector.findPose(img)\n",
        "    # sleep(0.5)\n",
        "    lmlist, bbox = detector.findPosition(img)\n",
        "\n",
        "    return lmlist[11][1]\n",
        "\n",
        "def rotate():\n",
        "    while not (960 * 0.8 < i < 960 * 1.2):\n",
        "        i = peek()\n",
        "\n",
        "        if i < 960: # Defines dirrection to Spin\n",
        "            direction = 'CW'\n",
        "        else:\n",
        "            direction = 'CCW'"
      ],
      "metadata": {
        "id": "ANPKnI4OwuOg"
      },
      "execution_count": null,
      "outputs": []
    },
    {
      "cell_type": "code",
      "source": [
        "launch(reqTorqueData[0], reqTorqueData[1])"
      ],
      "metadata": {
        "id": "9_CRz-mcJ6N9"
      },
      "execution_count": null,
      "outputs": []
    }
  ],
  "metadata": {
    "accelerator": "GPU",
    "colab": {
      "collapsed_sections": [
        "6vAXHEX4G7Tg",
        "91Zyb7COVAy9",
        "9VkT0uceakcO",
        "cPsoV48Casjs"
      ],
      "provenance": []
    },
    "kernelspec": {
      "display_name": "Python 3",
      "name": "python3"
    },
    "language_info": {
      "name": "python"
    }
  },
  "nbformat": 4,
  "nbformat_minor": 0
}